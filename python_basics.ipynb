{
 "cells": [
  {
   "cell_type": "markdown",
   "metadata": {},
   "source": [
    "### 1. Python Basics"
   ]
  },
  {
   "cell_type": "code",
   "execution_count": null,
   "metadata": {},
   "outputs": [],
   "source": [
    "print(\"Hello, World!\")\n",
    "\n",
    "# Variables and data types\n",
    "a = 10  # integer\n",
    "b = 3.14  # float\n",
    "c = \"Python\"  # string\n",
    "d = True  # boolean\n",
    "\n",
    "# Printing the variables and their types\n",
    "print(f\"a: {a}, Type: {type(a)}\")\n",
    "print(f\"b: {b}, Type: {type(b)}\")\n",
    "print(f\"c: '{c}', Type: {type(c)}\")\n",
    "print(f\"d: {d}, Type: {type(d)}\")\n",
    "\n",
    "# Basic operations\n",
    "sum = a + b  # Addition\n",
    "subtract = a - b # Subtraction\n",
    "product = a * b  # Multiplication\n",
    "division = a / b # Division\n",
    "is_equal = a == b  # Comparison\n",
    "\n",
    "print(f\"Sum: {sum}\")\n",
    "print(f\"Difference: {subtract}\")\n",
    "print(f\"Product: {product}\")\n",
    "print(f\"Division: {division}\")\n",
    "print(f\"Is a equal to b? {is_equal}\")"
   ]
  },
  {
   "cell_type": "markdown",
   "metadata": {},
   "source": [
    "##### Hands-on: Simple Calculator Program"
   ]
  },
  {
   "cell_type": "code",
   "execution_count": null,
   "metadata": {},
   "outputs": [],
   "source": []
  },
  {
   "cell_type": "markdown",
   "metadata": {},
   "source": [
    "### 2. Control Flow"
   ]
  },
  {
   "cell_type": "code",
   "execution_count": null,
   "metadata": {},
   "outputs": [],
   "source": [
    "# Conditional statements\n",
    "num = 10\n",
    "\n",
    "if num > 0:\n",
    "    print(\"Positive number\")\n",
    "elif num == 0:\n",
    "    print(\"Zero\")\n",
    "else:\n",
    "    print(\"Negative number\")"
   ]
  },
  {
   "cell_type": "code",
   "execution_count": null,
   "metadata": {},
   "outputs": [],
   "source": [
    "# Looping\n",
    "num_range = [0, 1, 2, 3, 4]\n",
    "\n",
    "for i in num_range:\n",
    "    print(i)\n",
    "\n",
    "print()\n",
    "counter = 5\n",
    "while counter > 0:\n",
    "    print(counter)\n",
    "    counter -= 1"
   ]
  },
  {
   "cell_type": "markdown",
   "metadata": {},
   "source": [
    "#### Hands-on: Basic number guessing game"
   ]
  },
  {
   "cell_type": "code",
   "execution_count": null,
   "metadata": {},
   "outputs": [],
   "source": []
  },
  {
   "cell_type": "markdown",
   "metadata": {},
   "source": [
    "### 3. Functions and Modules"
   ]
  },
  {
   "cell_type": "code",
   "execution_count": null,
   "metadata": {},
   "outputs": [],
   "source": [
    "def add(a, b):\n",
    "    return a + b\n",
    "\n",
    "result = add(3, 5)\n",
    "print(\"Sum:\", result) "
   ]
  },
  {
   "cell_type": "code",
   "execution_count": null,
   "metadata": {},
   "outputs": [],
   "source": [
    "import math\n",
    "\n",
    "print(\"Ceiling of 4.2:\", math.ceil(4.2))  \n",
    "print(\"Floor of 4.8:\", math.floor(4.8))   \n",
    "print(\"Factorial of 5:\", math.factorial(5)) \n",
    "print(\"Power of 2^3:\", math.pow(2, 3)) \n",
    "print(\"Natural logarithm of 10:\", math.log(10)) \n",
    "print(\"Sine of 90 degrees:\", math.sin(math.radians(90))) "
   ]
  },
  {
   "cell_type": "code",
   "execution_count": null,
   "metadata": {},
   "outputs": [],
   "source": [
    "import random\n",
    "\n",
    "print(\"Random number between 1 and 100:\", random.randint(1, 100))\n",
    "print(\"Random float between 0 and 1:\", random.random())  \n",
    "print(\"Random choice from a list:\", random.choice(['apple', 'banana', 'cherry']))\n",
    "print(\"Shuffle a list:\", random.shuffle([1, 2, 3, 4, 5]))"
   ]
  },
  {
   "cell_type": "code",
   "execution_count": null,
   "metadata": {},
   "outputs": [],
   "source": [
    "import statistics\n",
    "data = [2, 3, 5, 8, 5, 6, 7]\n",
    "\n",
    "print(\"Mean:\", statistics.mean(data)) \n",
    "print(\"Median:\", statistics.median(data))\n",
    "print(\"Mode:\", statistics.mode(data))  \n",
    "print(\"Variance:\", statistics.variance(data))"
   ]
  },
  {
   "cell_type": "markdown",
   "metadata": {},
   "source": [
    "#### Hands-on: Factorial"
   ]
  },
  {
   "cell_type": "code",
   "execution_count": null,
   "metadata": {},
   "outputs": [],
   "source": []
  },
  {
   "cell_type": "markdown",
   "metadata": {},
   "source": [
    "### 4. Data Structures"
   ]
  },
  {
   "cell_type": "code",
   "execution_count": null,
   "metadata": {},
   "outputs": [],
   "source": [
    "# Lists\n",
    "# Creating a list\n",
    "fruits = [\"apple\", \"banana\", \"cherry\"]\n",
    "\n",
    "# Indexing\n",
    "print(\"First fruit:\", fruits[0])\n",
    "\n",
    "# Slicing\n",
    "print(\"First two fruits:\", fruits[:2])\n",
    "\n",
    "# Append a new element\n",
    "fruits.append(\"orange\")\n",
    "print(\"After appending:\", fruits)\n",
    "\n",
    "# Remove an element\n",
    "fruits.remove(\"banana\")\n",
    "print(\"After removing banana:\", fruits)\n",
    "\n",
    "# Sort the list\n",
    "fruits.sort(reverse = True)\n",
    "print(\"Sorted fruits:\", fruits)"
   ]
  },
  {
   "cell_type": "code",
   "execution_count": null,
   "metadata": {},
   "outputs": [],
   "source": [
    "# Tuples\n",
    "coordinates = (10, 20, 30)\n",
    "\n",
    "# Accessing elements\n",
    "print(\"First coordinate:\", coordinates[0])\n",
    "\n",
    "# Tuples are immutable\n",
    "# coordinates[0] = 100 "
   ]
  },
  {
   "cell_type": "code",
   "execution_count": null,
   "metadata": {},
   "outputs": [],
   "source": [
    "# Dictionary\n",
    "person = {\n",
    "    \"name\": \"Naman\",\n",
    "    \"age\": 19,\n",
    "    \"city\": \"Mumbai\"\n",
    "}\n",
    "\n",
    "# Accessing elements\n",
    "print(f\"Name: {person['name']}\")\n",
    "\n",
    "# Adding a new key-value pair\n",
    "person[\"email\"] = \"naman@example.com\"\n",
    "print(f\"Updated dictionary: {person}\")\n",
    "\n",
    "# Updating an existing value\n",
    "person[\"age\"] = 20\n",
    "print(f\"After updating age: {person}\")\n",
    "\n",
    "# Removing a key-value pair\n",
    "del person[\"city\"]\n",
    "print(f\"After removing city: {person}\")"
   ]
  },
  {
   "cell_type": "markdown",
   "metadata": {},
   "source": [
    "#### Hands-on: Word Occurrence Counter"
   ]
  },
  {
   "cell_type": "code",
   "execution_count": null,
   "metadata": {},
   "outputs": [],
   "source": []
  },
  {
   "cell_type": "markdown",
   "metadata": {},
   "source": [
    "### 5. Introduction to Python Packages"
   ]
  },
  {
   "cell_type": "code",
   "execution_count": null,
   "metadata": {},
   "outputs": [],
   "source": [
    "# Numpy\n",
    "import numpy as np\n",
    "\n",
    "# Creating a Numpy array\n",
    "arr = np.array([1, 2, 3, 4, 5])\n",
    "\n",
    "# Basic operations on the array\n",
    "arr_sum = arr + 5  \n",
    "arr_product = arr * 2  \n",
    "\n",
    "print(\"Original array:\", arr)\n",
    "print(\"Array after adding 5:\", arr_sum)\n",
    "print(\"Array after multiplying by 2:\", arr_product)"
   ]
  },
  {
   "cell_type": "code",
   "execution_count": null,
   "metadata": {},
   "outputs": [],
   "source": [
    "# Pandas\n",
    "import pandas as pd\n",
    "\n",
    "# Creating a simple DataFrame\n",
    "data = {\n",
    "    'Name': ['Aadee', 'Naman', 'Manavi', 'Abdulla'],\n",
    "    'Age': [19, 19, 20, 20],\n",
    "    'Salary': [65000, 70000, 60000, 58000]\n",
    "}\n",
    "\n",
    "df = pd.DataFrame(data)\n",
    "\n",
    "# Displaying the DataFrame\n",
    "print(\"Original DataFrame:\")\n",
    "print(df)\n",
    "\n",
    "# Basic DataFrame operations\n",
    "df['Age'] += 1\n",
    "df['Salary_after_bonus'] = df['Salary'] * 1.1\n",
    "\n",
    "print(\"DataFrame after operations:\")\n",
    "print(df)"
   ]
  },
  {
   "cell_type": "markdown",
   "metadata": {},
   "source": [
    "##### Hands-on: Simple DataFrame Creation and Operations"
   ]
  },
  {
   "cell_type": "code",
   "execution_count": null,
   "metadata": {},
   "outputs": [],
   "source": []
  }
 ],
 "metadata": {
  "kernelspec": {
   "display_name": "Python 3 (ipykernel)",
   "language": "python",
   "name": "python3"
  },
  "language_info": {
   "codemirror_mode": {
    "name": "ipython",
    "version": 3
   },
   "file_extension": ".py",
   "mimetype": "text/x-python",
   "name": "python",
   "nbconvert_exporter": "python",
   "pygments_lexer": "ipython3",
   "version": "3.12.3"
  }
 },
 "nbformat": 4,
 "nbformat_minor": 4
}
