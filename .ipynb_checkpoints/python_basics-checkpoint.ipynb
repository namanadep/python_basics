{
 "cells": [
  {
   "cell_type": "markdown",
   "metadata": {},
   "source": [
    "### 1. Python Basics"
   ]
  },
  {
   "cell_type": "code",
   "execution_count": null,
   "metadata": {},
   "outputs": [],
   "source": [
    "print(\"Hello, World!\")\n",
    "\n",
    "# Variables and data types\n",
    "a = 10  # integer\n",
    "b = 3.14  # float\n",
    "c = \"Python\"  # string\n",
    "d = True  # boolean\n",
    "\n",
    "# Printing the variables and their types\n",
    "print(f\"a: {a}, Type: {type(a)}\")\n",
    "print(f\"b: {b}, Type: {type(b)}\")\n",
    "print(f\"c: '{c}', Type: {type(c)}\")\n",
    "print(f\"d: {d}, Type: {type(d)}\")\n",
    "\n",
    "# Basic operations\n",
    "sum = a + b  # Addition\n",
    "subtract = a - b # Subtraction\n",
    "product = a * b  # Multiplication\n",
    "division = a / b # Division\n",
    "is_equal = a == b  # Comparison\n",
    "\n",
    "print(f\"Sum: {sum}\")\n",
    "print(f\"Difference: {subtract}\")\n",
    "print(f\"Product: {product}\")\n",
    "print(f\"Division: {division}\")\n",
    "print(f\"Is a equal to b? {is_equal}\")"
   ]
  },
  {
   "cell_type": "markdown",
   "metadata": {},
   "source": [
    "##### Hands-on: Simple Calculator Program"
   ]
  },
  {
   "cell_type": "code",
   "execution_count": 5,
   "metadata": {},
   "outputs": [
    {
     "name": "stdout",
     "output_type": "stream",
     "text": [
      "The result is: 15.0\n"
     ]
    }
   ],
   "source": []
  },
  {
   "cell_type": "markdown",
   "metadata": {},
   "source": [
    "### 2. Control Flow"
   ]
  },
  {
   "cell_type": "code",
   "execution_count": null,
   "metadata": {},
   "outputs": [],
   "source": [
    "# Conditional statements\n",
    "num = 10\n",
    "\n",
    "if num > 0:\n",
    "    print(\"Positive number\")\n",
    "elif num == 0:\n",
    "    print(\"Zero\")\n",
    "else:\n",
    "    print(\"Negative number\")"
   ]
  },
  {
   "cell_type": "code",
   "execution_count": null,
   "metadata": {},
   "outputs": [],
   "source": [
    "# Looping\n",
    "num_range = [0, 1, 2, 3, 4]\n",
    "\n",
    "for i in num_range:\n",
    "    print(i)\n",
    "\n",
    "print()\n",
    "counter = 5\n",
    "while counter > 0:\n",
    "    print(counter)\n",
    "    counter -= 1"
   ]
  },
  {
   "cell_type": "markdown",
   "metadata": {},
   "source": [
    "#### Hands-on: Basic number guessing game"
   ]
  },
  {
   "cell_type": "code",
   "execution_count": null,
   "metadata": {},
   "outputs": [],
   "source": []
  },
  {
   "cell_type": "code",
   "execution_count": null,
   "metadata": {},
   "outputs": [],
   "source": []
  },
  {
   "cell_type": "markdown",
   "metadata": {},
   "source": [
    "### 4. Functions and Modules"
   ]
  },
  {
   "cell_type": "code",
   "execution_count": 17,
   "metadata": {},
   "outputs": [
    {
     "name": "stdout",
     "output_type": "stream",
     "text": [
      "Sum: 8\n"
     ]
    }
   ],
   "source": [
    "# Function to add two numbers\n",
    "def add(a, b):\n",
    "    return a + b\n",
    "\n",
    "result = add(3, 5)\n",
    "print(\"Sum:\", result) "
   ]
  },
  {
   "cell_type": "code",
   "execution_count": 18,
   "metadata": {},
   "outputs": [
    {
     "name": "stdout",
     "output_type": "stream",
     "text": [
      "Ceiling of 4.2: 5\n",
      "Floor of 4.8: 4\n",
      "Factorial of 5: 120\n",
      "Power of 2^3: 8.0\n",
      "Natural logarithm of 10: 2.302585092994046\n",
      "Sine of 90 degrees: 1.0\n"
     ]
    }
   ],
   "source": [
    "import math\n",
    "\n",
    "# Using math module\n",
    "print(\"Ceiling of 4.2:\", math.ceil(4.2))  \n",
    "print(\"Floor of 4.8:\", math.floor(4.8))   \n",
    "print(\"Factorial of 5:\", math.factorial(5)) \n",
    "print(\"Power of 2^3:\", math.pow(2, 3)) \n",
    "print(\"Natural logarithm of 10:\", math.log(10)) \n",
    "print(\"Sine of 90 degrees:\", math.sin(math.radians(90))) "
   ]
  },
  {
   "cell_type": "code",
   "execution_count": 19,
   "metadata": {},
   "outputs": [
    {
     "name": "stdout",
     "output_type": "stream",
     "text": [
      "Random number between 1 and 100: 72\n",
      "Random float between 0 and 1: 0.5151357262620727\n",
      "Random choice from a list: cherry\n",
      "Shuffle a list: None\n"
     ]
    }
   ],
   "source": [
    "import random\n",
    "\n",
    "# Using random module\n",
    "print(\"Random number between 1 and 100:\", random.randint(1, 100))  # Random integer\n",
    "print(\"Random float between 0 and 1:\", random.random())  # Random float between 0 and 1\n",
    "print(\"Random choice from a list:\", random.choice(['apple', 'banana', 'cherry']))  # Random choice from a list\n",
    "print(\"Shuffle a list:\", random.shuffle([1, 2, 3, 4, 5]))  # Shuffle a list"
   ]
  },
  {
   "cell_type": "code",
   "execution_count": null,
   "metadata": {},
   "outputs": [],
   "source": [
    "import statistics\n",
    "data = [2, 3, 5, 8, 5, 6, 7]\n",
    "\n",
    "# Basic statistics\n",
    "print(\"Mean:\", statistics.mean(data))  # Mean\n",
    "print(\"Median:\", statistics.median(data))  # Median\n",
    "print(\"Mode:\", statistics.mode(data))  # Mode\n",
    "print(\"Variance:\", statistics.variance(data))  # Variance"
   ]
  },
  {
   "cell_type": "markdown",
   "metadata": {},
   "source": [
    "#### Hands-on: Factorial"
   ]
  },
  {
   "cell_type": "code",
   "execution_count": null,
   "metadata": {},
   "outputs": [],
   "source": []
  },
  {
   "cell_type": "markdown",
   "metadata": {},
   "source": [
    "### 4. Data Structures"
   ]
  },
  {
   "cell_type": "code",
   "execution_count": 10,
   "metadata": {},
   "outputs": [
    {
     "name": "stdout",
     "output_type": "stream",
     "text": [
      "First fruit: apple\n",
      "First two fruits: ['apple', 'banana']\n",
      "After appending: ['apple', 'banana', 'cherry', 'orange']\n",
      "After removing banana: ['apple', 'cherry', 'orange']\n",
      "Sorted fruits: ['orange', 'cherry', 'apple']\n"
     ]
    }
   ],
   "source": [
    "# Lists: Creating, Indexing, Slicing, and Basic Methods\n",
    "# Creating a list\n",
    "fruits = [\"apple\", \"banana\", \"cherry\"]\n",
    "\n",
    "# Indexing\n",
    "print(\"First fruit:\", fruits[0])\n",
    "\n",
    "# Slicing\n",
    "print(\"First two fruits:\", fruits[:2])  # Slicing the first two elements\n",
    "\n",
    "# Append a new element\n",
    "fruits.append(\"orange\")\n",
    "print(\"After appending:\", fruits)\n",
    "\n",
    "# Remove an element\n",
    "fruits.remove(\"banana\")\n",
    "print(\"After removing banana:\", fruits)\n",
    "\n",
    "# Sort the list\n",
    "fruits.sort(reverse = True)\n",
    "print(\"Sorted fruits:\", fruits)"
   ]
  },
  {
   "cell_type": "code",
   "execution_count": 13,
   "metadata": {},
   "outputs": [
    {
     "name": "stdout",
     "output_type": "stream",
     "text": [
      "First coordinate: 30\n"
     ]
    }
   ],
   "source": [
    "# Tuples\n",
    "coordinates = (10, 20, 30)\n",
    "\n",
    "# Accessing elements\n",
    "print(\"First coordinate:\", coordinates[0])\n",
    "\n",
    "# Tuples are immutable\n",
    "# coordinates[0] = 100 "
   ]
  },
  {
   "cell_type": "code",
   "execution_count": 14,
   "metadata": {},
   "outputs": [
    {
     "name": "stdout",
     "output_type": "stream",
     "text": [
      "Name: Naman\n",
      "Updated dictionary: {'name': 'Naman', 'age': 19, 'city': 'Mumbai', 'email': 'naman@example.com'}\n",
      "After updating age: {'name': 'Naman', 'age': 20, 'city': 'Mumbai', 'email': 'naman@example.com'}\n",
      "After removing city: {'name': 'Naman', 'age': 20, 'email': 'naman@example.com'}\n"
     ]
    }
   ],
   "source": [
    "# Dictionary\n",
    "person = {\n",
    "    \"name\": \"Naman\",\n",
    "    \"age\": 19,\n",
    "    \"city\": \"Mumbai\"\n",
    "}\n",
    "\n",
    "# Accessing elements\n",
    "print(f\"Name: {person['name']}\")\n",
    "\n",
    "# Adding a new key-value pair\n",
    "person[\"email\"] = \"naman@example.com\"\n",
    "print(f\"Updated dictionary: {person}\")\n",
    "\n",
    "# Updating an existing value\n",
    "person[\"age\"] = 20\n",
    "print(f\"After updating age: {person}\")\n",
    "\n",
    "# Removing a key-value pair\n",
    "del person[\"city\"]\n",
    "print(f\"After removing city: {person}\")"
   ]
  },
  {
   "cell_type": "markdown",
   "metadata": {},
   "source": [
    "#### Hands-on: Word Occurrence Counter"
   ]
  },
  {
   "cell_type": "code",
   "execution_count": null,
   "metadata": {},
   "outputs": [],
   "source": []
  },
  {
   "cell_type": "markdown",
   "metadata": {},
   "source": [
    "### 5. Introduction to Python Packages"
   ]
  },
  {
   "cell_type": "code",
   "execution_count": 16,
   "metadata": {},
   "outputs": [
    {
     "name": "stdout",
     "output_type": "stream",
     "text": [
      "Original array: [1 2 3 4 5]\n",
      "Array after adding 5: [ 6  7  8  9 10]\n",
      "Array after multiplying by 2: [ 2  4  6  8 10]\n"
     ]
    }
   ],
   "source": [
    "# Numpy\n",
    "import numpy as np\n",
    "\n",
    "# Creating a Numpy array\n",
    "arr = np.array([1, 2, 3, 4, 5])\n",
    "\n",
    "# Basic operations on the array\n",
    "arr_sum = arr + 5  \n",
    "arr_product = arr * 2  \n",
    "\n",
    "print(\"Original array:\", arr)\n",
    "print(\"Array after adding 5:\", arr_sum)\n",
    "print(\"Array after multiplying by 2:\", arr_product)"
   ]
  },
  {
   "cell_type": "code",
   "execution_count": null,
   "metadata": {},
   "outputs": [],
   "source": [
    "# Pandas\n",
    "import pandas as pd\n",
    "\n",
    "# Creating a simple DataFrame\n",
    "data = {\n",
    "    'Name': ['Aadee', 'Naman', 'Manavi', 'Abdulla'],\n",
    "    'Age': [19, 19, 20, 20],\n",
    "    'Salary': [65000, 70000, 60000, 58000]\n",
    "}\n",
    "\n",
    "df = pd.DataFrame(data)\n",
    "\n",
    "# Displaying the DataFrame\n",
    "print(\"Original DataFrame:\")\n",
    "print(df)\n",
    "\n",
    "# Basic DataFrame operations\n",
    "df['Age'] += 1\n",
    "df['Salary_after_bonus'] = df['Salary'] * 1.1\n",
    "\n",
    "print(\"DataFrame after operations:\")\n",
    "print(df)"
   ]
  },
  {
   "cell_type": "markdown",
   "metadata": {},
   "source": [
    "##### Hands-on: Simple DataFrame Creation and Operations"
   ]
  },
  {
   "cell_type": "code",
   "execution_count": null,
   "metadata": {},
   "outputs": [],
   "source": []
  }
 ],
 "metadata": {
  "kernelspec": {
   "display_name": "Python 3 (ipykernel)",
   "language": "python",
   "name": "python3"
  },
  "language_info": {
   "codemirror_mode": {
    "name": "ipython",
    "version": 3
   },
   "file_extension": ".py",
   "mimetype": "text/x-python",
   "name": "python",
   "nbconvert_exporter": "python",
   "pygments_lexer": "ipython3",
   "version": "3.12.3"
  }
 },
 "nbformat": 4,
 "nbformat_minor": 4
}
